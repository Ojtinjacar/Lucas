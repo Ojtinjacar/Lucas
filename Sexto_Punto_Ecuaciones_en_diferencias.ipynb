{
  "nbformat": 4,
  "nbformat_minor": 0,
  "metadata": {
    "colab": {
      "name": "Sexto Punto -Ecuaciones en diferencias",
      "provenance": []
    },
    "kernelspec": {
      "name": "python3",
      "display_name": "Python 3"
    }
  },
  "cells": [
    {
      "cell_type": "markdown",
      "metadata": {
        "id": "Pq0exS06Xb3Q",
        "colab_type": "text"
      },
      "source": [
        "Los números de Lucas están relacionado con los números de Fibonacci, y están definidos por la siguiente secuencia $L_{n+2} = L_{n+1} + L_{n}$, $L_0=2$, $L_1=1$. Escriba un programa que imprima la siguiente información.\n",
        "\n",
        "\n"
      ]
    },
    {
      "cell_type": "code",
      "metadata": {
        "id": "L5lXwU6HY6pR",
        "colab_type": "code",
        "colab": {}
      },
      "source": [
        "  class FibonacciCode:\n",
        "\n",
        "    def __init__(self):\n",
        "        self.l_0 = 2\n",
        "        self.l_1 = 1\n",
        "\n",
        "    def numLucas(self, n):\n",
        "        if n  == 0:\n",
        "            return self.l_0\n",
        "        elif n == 1:\n",
        "            return self.l_1\n",
        "        else:\n",
        "            return self.numLucas(int(n-1))+ self.numLucas(int(n-2))"
      ],
      "execution_count": 5,
      "outputs": []
    },
    {
      "cell_type": "markdown",
      "metadata": {
        "id": "lL4V4jtoZD1b",
        "colab_type": "text"
      },
      "source": [
        "\n",
        "*   El 18-th número de Lucas"
      ]
    },
    {
      "cell_type": "code",
      "metadata": {
        "id": "5SQ-nhW7XaYe",
        "colab_type": "code",
        "colab": {}
      },
      "source": [
        "a = FibonacciCode()\n",
        "print(a.numLucas(18))\n"
      ],
      "execution_count": null,
      "outputs": []
    },
    {
      "cell_type": "markdown",
      "metadata": {
        "id": "zvDIUhHAYE_6",
        "colab_type": "text"
      },
      "source": [
        "\n",
        "*   El número de Lucas más cercano a 1000\n",
        "\n"
      ]
    },
    {
      "cell_type": "code",
      "metadata": {
        "id": "XlOkzXaeYse6",
        "colab_type": "code",
        "colab": {}
      },
      "source": [
        "a = FibonacciCode()\n",
        "print(a.numLucas(14))\n"
      ],
      "execution_count": null,
      "outputs": []
    },
    {
      "cell_type": "markdown",
      "metadata": {
        "id": "HvTpnfdeY1kf",
        "colab_type": "text"
      },
      "source": [
        "\n",
        "\n",
        "*   El primer número de Lucas más grande que 100\n",
        "\n"
      ]
    },
    {
      "cell_type": "code",
      "metadata": {
        "id": "N13YM5fbZNNo",
        "colab_type": "code",
        "colab": {}
      },
      "source": [
        "a = FibonacciCode()\n",
        "print(a.numLucas(9))\n"
      ],
      "execution_count": null,
      "outputs": []
    }
  ]
}